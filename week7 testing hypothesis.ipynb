{
 "cells": [
  {
   "cell_type": "code",
   "execution_count": 47,
   "id": "3e8ce18c",
   "metadata": {},
   "outputs": [],
   "source": [
    "import pandas as pd\n",
    "import numpy as np"
   ]
  },
  {
   "cell_type": "code",
   "execution_count": 48,
   "id": "37e929a9",
   "metadata": {},
   "outputs": [],
   "source": [
    "data = pd.read_csv(\"dataset w7.csv\")"
   ]
  },
  {
   "cell_type": "code",
   "execution_count": 49,
   "id": "a1d9ef45",
   "metadata": {},
   "outputs": [
    {
     "data": {
      "text/html": [
       "<div>\n",
       "<style scoped>\n",
       "    .dataframe tbody tr th:only-of-type {\n",
       "        vertical-align: middle;\n",
       "    }\n",
       "\n",
       "    .dataframe tbody tr th {\n",
       "        vertical-align: top;\n",
       "    }\n",
       "\n",
       "    .dataframe thead th {\n",
       "        text-align: right;\n",
       "    }\n",
       "</style>\n",
       "<table border=\"1\" class=\"dataframe\">\n",
       "  <thead>\n",
       "    <tr style=\"text-align: right;\">\n",
       "      <th></th>\n",
       "      <th>Gender</th>\n",
       "      <th>Test preparation</th>\n",
       "      <th>Total Marks</th>\n",
       "    </tr>\n",
       "  </thead>\n",
       "  <tbody>\n",
       "    <tr>\n",
       "      <th>0</th>\n",
       "      <td>male</td>\n",
       "      <td>none</td>\n",
       "      <td>14</td>\n",
       "    </tr>\n",
       "    <tr>\n",
       "      <th>1</th>\n",
       "      <td>female</td>\n",
       "      <td>none</td>\n",
       "      <td>28</td>\n",
       "    </tr>\n",
       "    <tr>\n",
       "      <th>2</th>\n",
       "      <td>female</td>\n",
       "      <td>none</td>\n",
       "      <td>18</td>\n",
       "    </tr>\n",
       "    <tr>\n",
       "      <th>3</th>\n",
       "      <td>female</td>\n",
       "      <td>none</td>\n",
       "      <td>48</td>\n",
       "    </tr>\n",
       "    <tr>\n",
       "      <th>4</th>\n",
       "      <td>female</td>\n",
       "      <td>none</td>\n",
       "      <td>21</td>\n",
       "    </tr>\n",
       "    <tr>\n",
       "      <th>5</th>\n",
       "      <td>female</td>\n",
       "      <td>completed</td>\n",
       "      <td>40</td>\n",
       "    </tr>\n",
       "    <tr>\n",
       "      <th>6</th>\n",
       "      <td>male</td>\n",
       "      <td>none</td>\n",
       "      <td>30</td>\n",
       "    </tr>\n",
       "    <tr>\n",
       "      <th>7</th>\n",
       "      <td>female</td>\n",
       "      <td>none</td>\n",
       "      <td>12</td>\n",
       "    </tr>\n",
       "    <tr>\n",
       "      <th>8</th>\n",
       "      <td>male</td>\n",
       "      <td>none</td>\n",
       "      <td>18</td>\n",
       "    </tr>\n",
       "    <tr>\n",
       "      <th>9</th>\n",
       "      <td>male</td>\n",
       "      <td>none</td>\n",
       "      <td>24</td>\n",
       "    </tr>\n",
       "    <tr>\n",
       "      <th>10</th>\n",
       "      <td>male</td>\n",
       "      <td>completed</td>\n",
       "      <td>44</td>\n",
       "    </tr>\n",
       "    <tr>\n",
       "      <th>11</th>\n",
       "      <td>male</td>\n",
       "      <td>none</td>\n",
       "      <td>23</td>\n",
       "    </tr>\n",
       "    <tr>\n",
       "      <th>12</th>\n",
       "      <td>male</td>\n",
       "      <td>completed</td>\n",
       "      <td>43</td>\n",
       "    </tr>\n",
       "    <tr>\n",
       "      <th>13</th>\n",
       "      <td>male</td>\n",
       "      <td>none</td>\n",
       "      <td>28</td>\n",
       "    </tr>\n",
       "    <tr>\n",
       "      <th>14</th>\n",
       "      <td>female</td>\n",
       "      <td>none</td>\n",
       "      <td>41</td>\n",
       "    </tr>\n",
       "    <tr>\n",
       "      <th>15</th>\n",
       "      <td>female</td>\n",
       "      <td>none</td>\n",
       "      <td>13</td>\n",
       "    </tr>\n",
       "    <tr>\n",
       "      <th>16</th>\n",
       "      <td>female</td>\n",
       "      <td>completed</td>\n",
       "      <td>48</td>\n",
       "    </tr>\n",
       "    <tr>\n",
       "      <th>17</th>\n",
       "      <td>female</td>\n",
       "      <td>none</td>\n",
       "      <td>45</td>\n",
       "    </tr>\n",
       "    <tr>\n",
       "      <th>18</th>\n",
       "      <td>male</td>\n",
       "      <td>none</td>\n",
       "      <td>47</td>\n",
       "    </tr>\n",
       "    <tr>\n",
       "      <th>19</th>\n",
       "      <td>male</td>\n",
       "      <td>none</td>\n",
       "      <td>36</td>\n",
       "    </tr>\n",
       "    <tr>\n",
       "      <th>20</th>\n",
       "      <td>male</td>\n",
       "      <td>none</td>\n",
       "      <td>14</td>\n",
       "    </tr>\n",
       "    <tr>\n",
       "      <th>21</th>\n",
       "      <td>male</td>\n",
       "      <td>completed</td>\n",
       "      <td>44</td>\n",
       "    </tr>\n",
       "    <tr>\n",
       "      <th>22</th>\n",
       "      <td>female</td>\n",
       "      <td>none</td>\n",
       "      <td>41</td>\n",
       "    </tr>\n",
       "    <tr>\n",
       "      <th>23</th>\n",
       "      <td>female</td>\n",
       "      <td>none</td>\n",
       "      <td>27</td>\n",
       "    </tr>\n",
       "    <tr>\n",
       "      <th>24</th>\n",
       "      <td>female</td>\n",
       "      <td>none</td>\n",
       "      <td>27</td>\n",
       "    </tr>\n",
       "    <tr>\n",
       "      <th>25</th>\n",
       "      <td>female</td>\n",
       "      <td>none</td>\n",
       "      <td>38</td>\n",
       "    </tr>\n",
       "    <tr>\n",
       "      <th>26</th>\n",
       "      <td>female</td>\n",
       "      <td>completed</td>\n",
       "      <td>50</td>\n",
       "    </tr>\n",
       "    <tr>\n",
       "      <th>27</th>\n",
       "      <td>female</td>\n",
       "      <td>completed</td>\n",
       "      <td>43</td>\n",
       "    </tr>\n",
       "  </tbody>\n",
       "</table>\n",
       "</div>"
      ],
      "text/plain": [
       "    Gender Test preparation  Total Marks\n",
       "0     male             none           14\n",
       "1   female             none           28\n",
       "2   female             none           18\n",
       "3   female             none           48\n",
       "4   female             none           21\n",
       "5   female        completed           40\n",
       "6     male             none           30\n",
       "7   female             none           12\n",
       "8     male             none           18\n",
       "9     male             none           24\n",
       "10    male        completed           44\n",
       "11    male             none           23\n",
       "12    male        completed           43\n",
       "13    male             none           28\n",
       "14  female             none           41\n",
       "15  female             none           13\n",
       "16  female        completed           48\n",
       "17  female             none           45\n",
       "18    male             none           47\n",
       "19    male             none           36\n",
       "20    male             none           14\n",
       "21    male        completed           44\n",
       "22  female             none           41\n",
       "23  female             none           27\n",
       "24  female             none           27\n",
       "25  female             none           38\n",
       "26  female        completed           50\n",
       "27  female        completed           43"
      ]
     },
     "execution_count": 49,
     "metadata": {},
     "output_type": "execute_result"
    }
   ],
   "source": [
    "data"
   ]
  },
  {
   "cell_type": "markdown",
   "id": "78b39e7b",
   "metadata": {},
   "source": [
    "# 1. Carry out descriptive analytics on the dataset"
   ]
  },
  {
   "cell_type": "code",
   "execution_count": 50,
   "id": "e85d8898",
   "metadata": {},
   "outputs": [],
   "source": [
    "# to find the mean\n",
    "import statistics\n",
    "import numpy as np\n",
    "\n",
    "\n",
    "data1 = data[\"Total Marks\"].mean()"
   ]
  },
  {
   "cell_type": "code",
   "execution_count": 51,
   "id": "d1db8f7b",
   "metadata": {},
   "outputs": [
    {
     "data": {
      "text/plain": [
       "32.32142857142857"
      ]
     },
     "execution_count": 51,
     "metadata": {},
     "output_type": "execute_result"
    }
   ],
   "source": [
    "data1"
   ]
  },
  {
   "cell_type": "code",
   "execution_count": 52,
   "id": "966dfeaa",
   "metadata": {},
   "outputs": [],
   "source": [
    "#mean of the data 32.321\n",
    "#to find null in the data\n",
    "\n",
    "\n",
    "data2 = data.isnull().sum()"
   ]
  },
  {
   "cell_type": "code",
   "execution_count": 53,
   "id": "62e387db",
   "metadata": {},
   "outputs": [
    {
     "data": {
      "text/plain": [
       "Gender              0\n",
       "Test preparation    0\n",
       "Total Marks         0\n",
       "dtype: int64"
      ]
     },
     "execution_count": 53,
     "metadata": {},
     "output_type": "execute_result"
    }
   ],
   "source": [
    "data2"
   ]
  },
  {
   "cell_type": "code",
   "execution_count": 54,
   "id": "ead097a4",
   "metadata": {},
   "outputs": [
    {
     "data": {
      "text/html": [
       "<div>\n",
       "<style scoped>\n",
       "    .dataframe tbody tr th:only-of-type {\n",
       "        vertical-align: middle;\n",
       "    }\n",
       "\n",
       "    .dataframe tbody tr th {\n",
       "        vertical-align: top;\n",
       "    }\n",
       "\n",
       "    .dataframe thead th {\n",
       "        text-align: right;\n",
       "    }\n",
       "</style>\n",
       "<table border=\"1\" class=\"dataframe\">\n",
       "  <thead>\n",
       "    <tr style=\"text-align: right;\">\n",
       "      <th></th>\n",
       "      <th>Gender</th>\n",
       "      <th>Test preparation</th>\n",
       "      <th>Total Marks</th>\n",
       "    </tr>\n",
       "  </thead>\n",
       "  <tbody>\n",
       "    <tr>\n",
       "      <th>0</th>\n",
       "      <td>male</td>\n",
       "      <td>none</td>\n",
       "      <td>14</td>\n",
       "    </tr>\n",
       "    <tr>\n",
       "      <th>1</th>\n",
       "      <td>female</td>\n",
       "      <td>none</td>\n",
       "      <td>28</td>\n",
       "    </tr>\n",
       "    <tr>\n",
       "      <th>2</th>\n",
       "      <td>female</td>\n",
       "      <td>none</td>\n",
       "      <td>18</td>\n",
       "    </tr>\n",
       "    <tr>\n",
       "      <th>3</th>\n",
       "      <td>female</td>\n",
       "      <td>none</td>\n",
       "      <td>48</td>\n",
       "    </tr>\n",
       "    <tr>\n",
       "      <th>4</th>\n",
       "      <td>female</td>\n",
       "      <td>none</td>\n",
       "      <td>21</td>\n",
       "    </tr>\n",
       "  </tbody>\n",
       "</table>\n",
       "</div>"
      ],
      "text/plain": [
       "   Gender Test preparation  Total Marks\n",
       "0    male             none           14\n",
       "1  female             none           28\n",
       "2  female             none           18\n",
       "3  female             none           48\n",
       "4  female             none           21"
      ]
     },
     "execution_count": 54,
     "metadata": {},
     "output_type": "execute_result"
    }
   ],
   "source": [
    "data.head()"
   ]
  },
  {
   "cell_type": "markdown",
   "id": "689f553e",
   "metadata": {},
   "source": [
    "# 2. Check whether female and male students scored the same marks."
   ]
  },
  {
   "cell_type": "code",
   "execution_count": 60,
   "id": "4d85e823",
   "metadata": {},
   "outputs": [],
   "source": [
    "#to check whether female and male scored the same marks\n",
    " \n",
    "from scipy.stats import ttest_ind\n",
    "\n",
    "#h0 : female and male did not score the same mark\n",
    "#h1 : female and male scores the same mark\n",
    "    \n",
    "    \n",
    "    \n",
    "df1 = data[data[\"Gender\"] == \"male\"][[\"Total Marks\"]]\n",
    "df2 = data[data[\"Gender\"]==\"female\"][[\"Total Marks\"]]\n",
    "alpha = 0.05\n",
    "_,p_value =ttest_ind(df1,df2)"
   ]
  },
  {
   "cell_type": "code",
   "execution_count": 61,
   "id": "a29c10bf",
   "metadata": {},
   "outputs": [
    {
     "name": "stdout",
     "output_type": "stream",
     "text": [
      "Failing to reject null hypothesis\n"
     ]
    }
   ],
   "source": [
    "if (p_value>alpha):\n",
    "    print(\"Failing to reject null hypothesis\")\n",
    "else:\n",
    "    print(\"Reject null hypothesis\")\n"
   ]
  },
  {
   "cell_type": "markdown",
   "id": "8902c7e0",
   "metadata": {},
   "source": [
    "# 3. Whether test preparation helps the students?"
   ]
  },
  {
   "cell_type": "code",
   "execution_count": 64,
   "id": "35e580e6",
   "metadata": {},
   "outputs": [],
   "source": [
    "#ho : test preparation does not help students\n",
    "#h1 : test preparation help students\n",
    "\n",
    "df3 = data[data[\"Test preparation\"]== \"Completed\"][\"Total Marks\"]\n",
    "df4 = data[data[\"Test preparation\"]== \"none\"][\"Total Marks\"]\n",
    "alpha = 0.05\n",
    "_,p_value =ttest_ind(df3,df4)"
   ]
  },
  {
   "cell_type": "code",
   "execution_count": 65,
   "id": "40c822c1",
   "metadata": {},
   "outputs": [
    {
     "name": "stdout",
     "output_type": "stream",
     "text": [
      "Reject h0\n"
     ]
    }
   ],
   "source": [
    "if (p_value>alpha):\n",
    "    print(\"Failing to reject H0\")\n",
    "else:\n",
    "    print(\"Reject h0\")\n"
   ]
  },
  {
   "cell_type": "code",
   "execution_count": null,
   "id": "d2c8d381",
   "metadata": {},
   "outputs": [],
   "source": []
  }
 ],
 "metadata": {
  "kernelspec": {
   "display_name": "Python 3 (ipykernel)",
   "language": "python",
   "name": "python3"
  },
  "language_info": {
   "codemirror_mode": {
    "name": "ipython",
    "version": 3
   },
   "file_extension": ".py",
   "mimetype": "text/x-python",
   "name": "python",
   "nbconvert_exporter": "python",
   "pygments_lexer": "ipython3",
   "version": "3.9.12"
  }
 },
 "nbformat": 4,
 "nbformat_minor": 5
}
